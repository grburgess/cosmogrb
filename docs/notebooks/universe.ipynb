{
 "cells": [
  {
   "cell_type": "markdown",
   "metadata": {},
   "source": [
    "# Simulating a Universe of GRBs\n",
    "Now we move to the main purpose of the code which is simulating many GRBs from distribution. We will set up a toy model for demonstration. The first thing we need to do is create our population with [popsynth](https://popsynth.readthedocs.io/en/latest/index.html)."
   ]
  },
  {
   "cell_type": "code",
   "execution_count": 1,
   "metadata": {
    "ExecuteTime": {
     "end_time": "2020-03-31T20:41:26.380648Z",
     "start_time": "2020-03-31T20:41:26.370285Z"
    }
   },
   "outputs": [],
   "source": [
    "# Scientific libraries\n",
    "\n",
    "import numpy as np\n",
    "\n",
    "import matplotlib.pyplot as plt\n",
    "%matplotlib notebook\n",
    "from jupyterthemes import jtplot\n",
    "\n",
    "jtplot.style(context='notebook', fscale=1, grid=False)\n",
    "plt.style.use('mike') "
   ]
  },
  {
   "cell_type": "code",
   "execution_count": 2,
   "metadata": {
    "ExecuteTime": {
     "end_time": "2020-03-31T20:41:28.188927Z",
     "start_time": "2020-03-31T20:41:26.949345Z"
    }
   },
   "outputs": [
    {
     "name": "stderr",
     "output_type": "stream",
     "text": [
      "/home/jburgess/.venv/cosmogrb/lib/python3.6/site-packages/popsynth-0.3.3-py3.6.egg/popsynth/distribution.py:7: TqdmExperimentalWarning: Using `tqdm.autonotebook.tqdm` in notebook mode. Use `tqdm.tqdm` instead to force console mode (e.g. in jupyter console)\n",
      "  from tqdm.autonotebook import tqdm as progress_bar\n"
     ]
    }
   ],
   "source": [
    "import popsynth\n",
    "from popsynth.aux_samplers.normal_aux_sampler import NormalAuxSampler\n",
    "from popsynth.aux_samplers.trunc_normal_aux_sampler import TruncatedNormalAuxSampler\n",
    "from popsynth.aux_samplers.lognormal_aux_sampler import LogNormalAuxSampler"
   ]
  },
  {
   "cell_type": "markdown",
   "metadata": {},
   "source": [
    "**cosmogrb** requires certain parameters to be simulated in a population. We will create the auxiliary samplers to do this.\n"
   ]
  },
  {
   "cell_type": "code",
   "execution_count": 3,
   "metadata": {
    "ExecuteTime": {
     "end_time": "2020-03-31T20:41:28.197877Z",
     "start_time": "2020-03-31T20:41:28.190807Z"
    }
   },
   "outputs": [],
   "source": [
    "class TDecaySampler(popsynth.AuxiliarySampler):\n",
    "    def __init__(self):\n",
    "        \"\"\"\n",
    "        samples the decay of the of the pulse \n",
    "        \"\"\"\n",
    "\n",
    "        super(TDecaySampler, self).__init__(name=\"tdecay\", sigma=None, observed=False)\n",
    "\n",
    "    def true_sampler(self, size):\n",
    "\n",
    "        t90 = 10 ** self._secondary_samplers[\"log_t90\"].true_values\n",
    "        trise = self._secondary_samplers[\"trise\"].true_values\n",
    "\n",
    "        self._true_values = (\n",
    "            1.0 / 50.0 * (10 * t90 + trise + np.sqrt(trise) * np.sqrt(20 * t90 + trise))\n",
    "        )\n",
    "\n",
    "\n",
    "class DurationSampler(popsynth.AuxiliarySampler):\n",
    "    def __init__(self):\n",
    "        \"samples how long the pulse last\"\n",
    "\n",
    "        super(DurationSampler, self).__init__(\n",
    "            name=\"duration\", sigma=None, observed=False\n",
    "        )\n",
    "\n",
    "    def true_sampler(self, size):\n",
    "\n",
    "        t90 = 10 ** self._secondary_samplers[\"log_t90\"].true_values\n",
    "\n",
    "        self._true_values = 1.5 * t90"
   ]
  },
  {
   "cell_type": "markdown",
   "metadata": {},
   "source": [
    "Now that we have creates our extra distribution samplers, we can go ahead and create the population sampler. We will use a simple SFR like redshift distribution and a Pareto (power law) luminosity function"
   ]
  },
  {
   "cell_type": "code",
   "execution_count": 4,
   "metadata": {
    "ExecuteTime": {
     "end_time": "2020-03-31T20:52:49.132437Z",
     "start_time": "2020-03-31T20:52:49.127784Z"
    }
   },
   "outputs": [],
   "source": [
    "# redshift distribution \n",
    "r0_true = 3\n",
    "rise_true = 1.\n",
    "decay_true = 4.0\n",
    "peak_true = 1.5\n",
    "\n",
    "# the luminosity\n",
    "Lmin_true = 1e51\n",
    "alpha_true = 1.5\n",
    "r_max = 7.0\n",
    "\n",
    "\n",
    "pop_gen = popsynth.populations.ParetoSFRPopulation(\n",
    "    r0=r0_true,\n",
    "    rise=rise_true,\n",
    "    decay=decay_true,\n",
    "    peak=peak_true,\n",
    "    Lmin=Lmin_true,\n",
    "    alpha=alpha_true,\n",
    "    r_max=r_max,\n",
    ")"
   ]
  },
  {
   "cell_type": "markdown",
   "metadata": {},
   "source": [
    "Now set up and add all the auxiliary samplers"
   ]
  },
  {
   "cell_type": "code",
   "execution_count": 5,
   "metadata": {
    "ExecuteTime": {
     "end_time": "2020-03-31T20:52:50.156376Z",
     "start_time": "2020-03-31T20:52:50.087497Z"
    }
   },
   "outputs": [
    {
     "name": "stdout",
     "output_type": "stream",
     "text": [
      "registering auxilary sampler: log_ep\n",
      "registering auxilary sampler: tau\n",
      "registering auxilary sampler: alpha\n",
      "registering auxilary sampler: tdecay\n",
      "registering auxilary sampler: duration\n"
     ]
    }
   ],
   "source": [
    "ep = LogNormalAuxSampler(mu=300.0, tau=0.5, name=\"log_ep\", observed=False)\n",
    "alpha = TruncatedNormalAuxSampler(\n",
    "    lower=-1.5, upper=0.1, mu=-1, tau=0.25, name=\"alpha\", observed=False\n",
    ")\n",
    "tau = TruncatedNormalAuxSampler(\n",
    "    lower=1.5, upper=2.5, mu=2, tau=0.25, name=\"tau\", observed=False\n",
    ")\n",
    "trise = TruncatedNormalAuxSampler(\n",
    "    lower=0.01, upper=5.0, mu=1, tau=1.0, name=\"trise\", observed=False\n",
    ")\n",
    "t90 = LogNormalAuxSampler(mu=10, tau=0.25, name=\"log_t90\", observed=False)\n",
    "\n",
    "tdecay = TDecaySampler()\n",
    "duration = DurationSampler()\n",
    "tdecay.set_secondary_sampler(t90)\n",
    "tdecay.set_secondary_sampler(trise)\n",
    "\n",
    "duration.set_secondary_sampler(t90)\n",
    "\n",
    "\n",
    "pop_gen.add_observed_quantity(ep)\n",
    "pop_gen.add_observed_quantity(tau)\n",
    "pop_gen.add_observed_quantity(alpha)\n",
    "pop_gen.add_observed_quantity(tdecay)\n",
    "pop_gen.add_observed_quantity(duration)"
   ]
  },
  {
   "cell_type": "markdown",
   "metadata": {},
   "source": [
    "Now we sample the population. It is important to specify that there is no selection as we will implement the full trigger later."
   ]
  },
  {
   "cell_type": "code",
   "execution_count": 9,
   "metadata": {
    "ExecuteTime": {
     "end_time": "2020-03-31T20:52:50.156376Z",
     "start_time": "2020-03-31T20:52:50.087497Z"
    }
   },
   "outputs": [
    {
     "name": "stdout",
     "output_type": "stream",
     "text": [
      "The volume integral is 114.333557\n"
     ]
    },
    {
     "data": {
      "application/vnd.jupyter.widget-view+json": {
       "model_id": "d9a8a892ab2c440cb8ed16fbc2a4dd21",
       "version_major": 2,
       "version_minor": 0
      },
      "text/plain": [
       "HBox(children=(FloatProgress(value=0.0, description='Drawing distances', max=104.0, style=ProgressStyle(descri…"
      ]
     },
     "metadata": {},
     "output_type": "display_data"
    },
    {
     "name": "stdout",
     "output_type": "stream",
     "text": [
      "\n",
      "Expecting 104 total objects\n",
      "Sampling: log_ep\n",
      "Sampling: tau\n",
      "Sampling: alpha\n",
      "Sampling: tdecay\n",
      "tdecay is sampling its secondary quantities\n",
      "Sampling: log_t90\n",
      "Sampling: trise\n",
      "Sampling: duration\n",
      "duration is sampling its secondary quantities\n",
      "Applying soft boundary\n"
     ]
    },
    {
     "data": {
      "application/vnd.jupyter.widget-view+json": {
       "model_id": "82a0bca85a484c8da9fa03761dfdf342",
       "version_major": 2,
       "version_minor": 0
      },
      "text/plain": [
       "HBox(children=(FloatProgress(value=0.0, description='samping detection probability', max=104.0, style=Progress…"
      ]
     },
     "metadata": {},
     "output_type": "display_data"
    },
    {
     "name": "stdout",
     "output_type": "stream",
     "text": [
      "\n",
      "No Selection! Added back all objects\n",
      "NO HIDDEN OBJECTS\n",
      "Deteced 104 objects or to a distance of 4.29\n"
     ]
    }
   ],
   "source": [
    "pop = pop_gen.draw_survey(no_selection=True, boundary=1e-2)"
   ]
  },
  {
   "cell_type": "code",
   "execution_count": 11,
   "metadata": {
    "ExecuteTime": {
     "end_time": "2020-03-31T20:51:41.039183Z",
     "start_time": "2020-03-31T20:51:40.964394Z"
    }
   },
   "outputs": [
    {
     "data": {
      "application/vnd.jupyter.widget-view+json": {
       "model_id": "5d5253b5696048c5bbd9c71d1b1ddfd1",
       "version_major": 2,
       "version_minor": 0
      },
      "text/plain": [
       "VBox(children=(Figure(camera=PerspectiveCamera(fov=45.0, position=(0.0, 0.0, 2.0), quaternion=(0.0, 0.0, 0.0, …"
      ]
     },
     "metadata": {},
     "output_type": "display_data"
    }
   ],
   "source": [
    "pop.display_obs_fluxes_sphere(size=1., cmap='cividis', background_color='black');"
   ]
  },
  {
   "cell_type": "code",
   "execution_count": 12,
   "metadata": {
    "ExecuteTime": {
     "end_time": "2020-03-31T21:03:26.944596Z",
     "start_time": "2020-03-31T21:03:26.917207Z"
    }
   },
   "outputs": [],
   "source": [
    "pop.writeto(\"population.h5\")"
   ]
  },
  {
   "cell_type": "markdown",
   "metadata": {},
   "source": [
    "## Loading the population into cosmogrb"
   ]
  },
  {
   "cell_type": "code",
   "execution_count": 3,
   "metadata": {
    "ExecuteTime": {
     "end_time": "2020-03-31T21:12:22.839476Z",
     "start_time": "2020-03-31T21:12:22.836749Z"
    }
   },
   "outputs": [
    {
     "name": "stdout",
     "output_type": "stream",
     "text": [
      "You do not have threeML installed\n"
     ]
    }
   ],
   "source": [
    "from dask.distributed import LocalCluster, Client\n",
    "from cosmogrb.instruments.gbm import GBM_CPL_Universe"
   ]
  },
  {
   "cell_type": "code",
   "execution_count": 4,
   "metadata": {
    "ExecuteTime": {
     "end_time": "2020-03-31T21:04:19.563601Z",
     "start_time": "2020-03-31T21:04:19.534427Z"
    }
   },
   "outputs": [
    {
     "data": {
      "text/html": [
       "<table style=\"border: 2px solid white;\">\n",
       "<tr>\n",
       "<td style=\"vertical-align: top; border: 0px solid white\">\n",
       "<h3 style=\"text-align: left;\">Client</h3>\n",
       "<ul style=\"text-align: left; list-style: none; margin: 0; padding: 0;\">\n",
       "  <li><b>Scheduler: </b>tcp://127.0.0.1:44611</li>\n",
       "  <li><b>Dashboard: </b><a href='http://127.0.0.1:8787/status' target='_blank'>http://127.0.0.1:8787/status</a>\n",
       "</ul>\n",
       "</td>\n",
       "<td style=\"vertical-align: top; border: 0px solid white\">\n",
       "<h3 style=\"text-align: left;\">Cluster</h3>\n",
       "<ul style=\"text-align: left; list-style:none; margin: 0; padding: 0;\">\n",
       "  <li><b>Workers: </b>24</li>\n",
       "  <li><b>Cores: </b>96</li>\n",
       "  <li><b>Memory: </b>201.45 GB</li>\n",
       "</ul>\n",
       "</td>\n",
       "</tr>\n",
       "</table>"
      ],
      "text/plain": [
       "<Client: 'tcp://127.0.0.1:44611' processes=24 threads=96, memory=201.45 GB>"
      ]
     },
     "execution_count": 4,
     "metadata": {},
     "output_type": "execute_result"
    }
   ],
   "source": [
    "cluster = LocalCluster(n_workers=24)\n",
    "client = Client(cluster)\n",
    "client"
   ]
  },
  {
   "cell_type": "code",
   "execution_count": 5,
   "metadata": {
    "ExecuteTime": {
     "end_time": "2020-03-31T21:22:35.751284Z",
     "start_time": "2020-03-31T21:22:35.719806Z"
    }
   },
   "outputs": [],
   "source": [
    "population = popsynth.Population.from_file('population.h5')\n",
    "universe = GBM_CPL_Universe(population, save_path=\"/data/jburgess/cosmogrb/\")"
   ]
  },
  {
   "cell_type": "code",
   "execution_count": 6,
   "metadata": {},
   "outputs": [],
   "source": [
    "universe.go(client)"
   ]
  },
  {
   "cell_type": "code",
   "execution_count": 7,
   "metadata": {},
   "outputs": [],
   "source": [
    "client.close()"
   ]
  },
  {
   "cell_type": "code",
   "execution_count": 8,
   "metadata": {},
   "outputs": [
    {
     "name": "stderr",
     "output_type": "stream",
     "text": [
      "distributed.nanny - WARNING - Worker process still alive after 3 seconds, killing\n",
      "distributed.nanny - WARNING - Worker process still alive after 3 seconds, killing\n",
      "distributed.nanny - WARNING - Worker process still alive after 3 seconds, killing\n",
      "distributed.nanny - WARNING - Worker process still alive after 3 seconds, killing\n",
      "distributed.nanny - WARNING - Worker process still alive after 3 seconds, killing\n",
      "distributed.nanny - WARNING - Worker process still alive after 3 seconds, killing\n",
      "distributed.nanny - WARNING - Worker process still alive after 3 seconds, killing\n",
      "distributed.nanny - WARNING - Worker process still alive after 3 seconds, killing\n",
      "distributed.nanny - WARNING - Worker process still alive after 3 seconds, killing\n",
      "distributed.nanny - WARNING - Worker process still alive after 3 seconds, killing\n",
      "distributed.nanny - WARNING - Worker process still alive after 3 seconds, killing\n",
      "distributed.nanny - WARNING - Worker process still alive after 3 seconds, killing\n",
      "distributed.nanny - WARNING - Worker process still alive after 3 seconds, killing\n",
      "distributed.nanny - WARNING - Worker process still alive after 3 seconds, killing\n",
      "distributed.nanny - WARNING - Worker process still alive after 3 seconds, killing\n",
      "distributed.nanny - WARNING - Worker process still alive after 3 seconds, killing\n",
      "distributed.nanny - WARNING - Worker process still alive after 3 seconds, killing\n",
      "distributed.nanny - WARNING - Worker process still alive after 3 seconds, killing\n",
      "distributed.nanny - WARNING - Worker process still alive after 3 seconds, killing\n",
      "distributed.nanny - WARNING - Worker process still alive after 3 seconds, killing\n",
      "distributed.nanny - WARNING - Worker process still alive after 3 seconds, killing\n",
      "distributed.nanny - WARNING - Worker process still alive after 3 seconds, killing\n",
      "distributed.nanny - WARNING - Worker process still alive after 3 seconds, killing\n",
      "distributed.nanny - WARNING - Worker process still alive after 3 seconds, killing\n"
     ]
    }
   ],
   "source": [
    "cluster.close()"
   ]
  },
  {
   "cell_type": "code",
   "execution_count": null,
   "metadata": {},
   "outputs": [],
   "source": []
  }
 ],
 "metadata": {
  "kernelspec": {
   "display_name": "cosmogrb",
   "language": "python",
   "name": "cosmogrb"
  },
  "language_info": {
   "codemirror_mode": {
    "name": "ipython",
    "version": 3
   },
   "file_extension": ".py",
   "mimetype": "text/x-python",
   "name": "python",
   "nbconvert_exporter": "python",
   "pygments_lexer": "ipython3",
   "version": "3.6.8"
  }
 },
 "nbformat": 4,
 "nbformat_minor": 2
}
